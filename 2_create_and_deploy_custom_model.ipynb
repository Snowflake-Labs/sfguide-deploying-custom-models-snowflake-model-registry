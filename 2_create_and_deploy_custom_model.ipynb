{
 "cells": [
  {
   "cell_type": "markdown",
   "metadata": {},
   "source": [
    "## 2. Define a Custom Model and log it to Snowflake Model Registry\n",
    "\n",
    "In this notebook we will define a Custom Model that is using the PyCrate model, that we trained in the previous step, and log it to the Snowflake Model Registry.\n",
    "\n",
    "### Import Libraries"
   ]
  },
  {
   "cell_type": "code",
   "execution_count": null,
   "metadata": {},
   "outputs": [],
   "source": [
    "from snowflake.snowpark import Session\n",
    "from snowflake.snowpark.version import VERSION\n",
    "\n",
    "from snowflake.ml.registry import Registry\n",
    "from snowflake.ml.model import custom_model\n",
    "from snowflake.ml.model import model_signature\n",
    "\n",
    "from pycaret.classification import predict_model, load_model\n",
    "\n",
    "import pandas as pd\n",
    "import json\n",
    "import os\n",
    "import shutil\n",
    "\n",
    "# warning suppresion\n",
    "import warnings; warnings.simplefilter('ignore')"
   ]
  },
  {
   "cell_type": "markdown",
   "metadata": {},
   "source": [
    "### Establish Secure Connection to Snowflake\n",
    "\n",
    "*Other connection options include Username/Password, MFA, OAuth, Okta, SSO. For more information, refer to the [Python Connector](https://docs.snowflake.com/en/developer-guide/python-connector/python-connector-example) documentation.*"
   ]
  },
  {
   "cell_type": "code",
   "execution_count": null,
   "metadata": {},
   "outputs": [],
   "source": [
    "# Make a Snowpark Connection\n",
    "\n",
    "################################################################################################################\n",
    "#  You can also use the SnowSQL Client to configure your connection params:\n",
    "#  https://docs.snowflake.com/en/user-guide/snowsql-install-config.html\n",
    "#\n",
    "#  >>> from snowflake.ml.utils import connection_params\n",
    "#  >>> session = Session.builder.configs(connection_params.SnowflakeLoginOptions()\n",
    "#  >>> ).create()   \n",
    "#\n",
    "#  NOTE: If you have named connection params then specify the connection name\n",
    "#  Example:\n",
    "#  \n",
    "#  >>> session = Session.builder.configs(\n",
    "#  >>> connection_params.SnowflakeLoginOptions(connection_name='connections.snowml')\n",
    "#  >>> ).create()\n",
    "#\n",
    "#################################################################################################################\n",
    "\n",
    "# Edit the connection.json before creating the session object below\n",
    "# Create Snowflake Session object\n",
    "connection_parameters = json.load(open('connection.json'))\n",
    "session = Session.builder.configs(connection_parameters).create()\n",
    "\n",
    "snowflake_environment = session.sql('SELECT current_user(), current_version()').collect()\n",
    "snowpark_version = VERSION\n",
    "\n",
    "# Current Environment Details\n",
    "print('\\nConnection Established with the following parameters:')\n",
    "print('User                        : {}'.format(snowflake_environment[0][0]))\n",
    "print('Role                        : {}'.format(session.get_current_role()))\n",
    "print('Database                    : {}'.format(session.get_current_database()))\n",
    "print('Schema                      : {}'.format(session.get_current_schema()))\n",
    "print('Warehouse                   : {}'.format(session.get_current_warehouse()))\n",
    "print('Snowflake version           : {}'.format(snowflake_environment[0][1]))\n",
    "print('Snowpark for Python version : {}.{}.{}'.format(snowpark_version[0],snowpark_version[1],snowpark_version[2]))"
   ]
  },
  {
   "cell_type": "markdown",
   "metadata": {},
   "source": [
    "First step is to create a [CustomModel](https://docs.snowflake.com/en/developer-guide/snowpark-ml/snowpark-ml-mlops-custom-models) class that will be used in Snowflake when calling the methods/functions of the model. \n",
    "\n",
    "In this quickstart we will only support the **predict** function, but if we want to support additional functions, we would specify those as methods of our class.\n",
    "\n",
    "The **__init__** method is where we load the model, we also need to change the *memory* directory that the model is using to */tmp/* since when we run this model in Snowflake it will use the WH nodes and we only have access to the */tmp* directory on those. **This only needed for a PyCaret model, if you use another library this might not be needed**\n",
    " \n",
    "The **predict** method needs to accept a Pandas DataFrame as input and also return a Pandas DataFrame, this due to that when it is running in Snowflake a [vectorized UDF](https://docs.snowflake.com/en/developer-guide/udf/python/udf-python-batch) is used where Snowflake converts the input rows to a Pandas DataFrame when calling the method and then converts the returned Pandas DataFrame into rows.\n"
   ]
  },
  {
   "cell_type": "code",
   "execution_count": null,
   "metadata": {},
   "outputs": [],
   "source": [
    "# Name of the class\n",
    "class PyCaretModel(custom_model.CustomModel):\n",
    "    # The init function is used to load the model file\n",
    "    def __init__(self, context: custom_model.ModelContext) -> None:\n",
    "        super().__init__(context)\n",
    "        # The model is saved with .pkl prefix, and the filename will be part of the properties of the ModelContext\n",
    "        # we create when logging it to Snowflake. Since PyCaret load function does not support using the prefix we \n",
    "        # need to remove it from the name\n",
    "        model_dir = self.context.path(\"model_file\")[:-4]\n",
    "        # Load the model\n",
    "        self.model = load_model(model_dir, verbose=False)\n",
    "        # When running this model in Snowflake it will use a WH and we do not have access to the /var/ directory on the nodes so\n",
    "        # we need to change to a directory we have access to, in this case /tmp/\n",
    "        self.model.memory='/tmp/' \n",
    "\n",
    "    @custom_model.inference_api\n",
    "    def predict(self, X: pd.DataFrame) -> pd.DataFrame:\n",
    "        model_output = predict_model(self.model, data=X)\n",
    "        # We will return both the predcited label as well as the score, as two sepereated columns\n",
    "        res_df = pd.DataFrame({\"prediction_label\": model_output['prediction_label'], \"prediction_score\": model_output['prediction_score']})\n",
    "        \n",
    "        return res_df"
   ]
  },
  {
   "cell_type": "markdown",
   "metadata": {},
   "source": [
    "We can now use this CustomModel class every time we want to log a PyCaret ClassificationExperiment to the Snowflake Model Registry.\n",
    "\n",
    "Before logging the model we need to define the **ModelContext**, it has references to the objects we need. In this case we need to add a reference to where we have stored the *juice_best_model.pkl* file locally so it can be uploaded to Snowflake when we log it to the Snowflake Model Registry."
   ]
  },
  {
   "cell_type": "code",
   "execution_count": null,
   "metadata": {},
   "outputs": [],
   "source": [
    "pycaret_mc = custom_model.ModelContext(\n",
    "\tmodels={ # This should be for models/objects that is supported by Model Registry OOTB.\n",
    "\t},\n",
    "\tartifacts={ # Everything not supported needs to be here\n",
    "\t\t'model_file': 'juice_best_model.pkl',\n",
    "\t}\n",
    ")"
   ]
  },
  {
   "cell_type": "markdown",
   "metadata": {},
   "source": [
    "We can now create a new object based on our **PyCaretModel** class and test it before log it to the Snowflake Model Registry\n",
    "\n",
    "Since we also need to generate a **ModelSignature** we can reuse the **test_data** DataFrame for generating the input part."
   ]
  },
  {
   "cell_type": "code",
   "execution_count": null,
   "metadata": {},
   "outputs": [],
   "source": [
    "test_data = [\n",
    "    [1,237,1,1.75,1.99,0.00,0.00,0,0,0.500000,1.99,1.75,0.24,'No',0.000000,0.000000,0.24,1],\n",
    "    [2,239,1,1.75,1.99,0.00,0.30,0,1,0.600000,1.69,1.75,-0.06,'No',0.150754,0.000000,0.24,1],\n",
    "    [3,245,1,1.86,2.09,0.17,0.00,0,0,0.680000,2.09,1.69,0.40,'No',0.000000,0.091398,0.23,1],\n",
    "    [4,227,1,1.69,1.69,0.00,0.00,0,0,0.400000,1.69,1.69,0.00,'No',0.000000,0.000000,0.00,1],\n",
    "    [5,228,7,1.69,1.69,0.00,0.00,0,0,0.956535,1.69,1.69,0.00,'Yes',0.000000,0.000000,0.00,0]\n",
    "]\n",
    "col_nms = ['Id','WeekofPurchase','StoreID','PriceCH','PriceMM','DiscCH','DiscMM','SpecialCH','SpecialMM'\n",
    "           ,'LoyalCH','SalePriceMM','SalePriceCH','PriceDiff','Store7','PctDiscMM','PctDiscCH','ListPriceDiff','STORE']\n",
    "\n",
    "test_pd = pd.DataFrame(test_data, columns=col_nms)\n",
    "test_pd"
   ]
  },
  {
   "cell_type": "markdown",
   "metadata": {},
   "source": [
    "We will store the output from the **predict** call in a Pandas DataFrame so it can be used for generating the output part of the **ModelSignature**"
   ]
  },
  {
   "cell_type": "code",
   "execution_count": null,
   "metadata": {},
   "outputs": [],
   "source": [
    "my_pycaret_model = PyCaretModel(pycaret_mc)\n",
    "output_pd = my_pycaret_model.predict(test_pd)\n",
    "output_pd"
   ]
  },
  {
   "cell_type": "markdown",
   "metadata": {},
   "source": [
    "Before logging the model we need to provide a **Model Signauture**. A **Model Signature** can be created using sample data for the input and output by using the *model_signature.infer_signature* function.\n",
    "\n",
    "In this case we can use the **test_pd** Pandas DataFrame as the input_data and **output_pd** Pandas DataFrame as the output."
   ]
  },
  {
   "cell_type": "code",
   "execution_count": null,
   "metadata": {},
   "outputs": [],
   "source": [
    "predict_sign = model_signature.infer_signature(input_data=test_pd, output_data=output_pd)\n",
    "predict_sign"
   ]
  },
  {
   "cell_type": "markdown",
   "metadata": {},
   "source": [
    "We can now log the model,  we will use the model signature for the predict function. In order to know which function of themodel that uses the signature we need use the function name as the key for the **signatures** parameter. \n",
    "\n",
    "There can be multiple models under the same **model_name** as long as the **version_name** is different. \n",
    "\n",
    "There is also possible to add metrics using the **metrics** parameter, but in this case we will not do that."
   ]
  },
  {
   "cell_type": "code",
   "execution_count": null,
   "metadata": {},
   "outputs": [],
   "source": [
    "# Create a model registry connection using the Snowpark session object, we will use the current database and schema for storing the model.\n",
    "snowml_registry = Registry(session)\n",
    "\n",
    "custom_mv = snowml_registry.log_model(\n",
    "    my_pycaret_model,\n",
    "    model_name=\"pycaret_juice\",\n",
    "    version_name=\"version_1\",\n",
    "    conda_dependencies=[\"pycaret==3.0.2\", \"scipy==1.11.4\", \"joblib==1.2.0\"],\n",
    "    options={\"relax_version\": False},\n",
    "    signatures={\"predict\": predict_sign},\n",
    "    comment = 'PyCaret ClassificationExperiment using the CustomModel API'\n",
    ")"
   ]
  },
  {
   "cell_type": "markdown",
   "metadata": {},
   "source": [
    "We can use **show_models** to check that the model is avalible in the Model Registry"
   ]
  },
  {
   "cell_type": "code",
   "execution_count": null,
   "metadata": {},
   "outputs": [],
   "source": [
    "snowml_registry.show_models()"
   ]
  },
  {
   "cell_type": "markdown",
   "metadata": {},
   "source": [
    "We can now use the logged model to do inference, using the model version object returned from **log_model**, **custom_mv**.\n",
    "\n",
    "To test it, we can create a Snowpark DataFrame with the test data we defined previously and then use the **run** methond of the model version to get back a Snowpark DataFrame with the predictions added (it can also use a Pandas DataFrame directly).\n",
    "\n",
    "Using the **show_functions** method on the model version object will show us which methods the model support and what the expected input and output is."
   ]
  },
  {
   "cell_type": "code",
   "execution_count": null,
   "metadata": {},
   "outputs": [],
   "source": [
    "custom_mv.show_functions()"
   ]
  },
  {
   "cell_type": "markdown",
   "metadata": {},
   "source": [
    "Create a Snowpark DataFrame and use the model on it."
   ]
  },
  {
   "cell_type": "code",
   "execution_count": null,
   "metadata": {},
   "outputs": [],
   "source": [
    "snowpark_df = session.create_dataframe(test_data, schema=col_nms)\n",
    "\n",
    "custom_mv.run(snowpark_df).show()"
   ]
  },
  {
   "cell_type": "markdown",
   "metadata": {},
   "source": [
    "You have now succesfully deployed a PyCaret model to Snowflake using the Model Registry. If you go to Snowsight (the Snowflake GUI), you should see the model under **AI & ML -> Models**, if you do not see it make sure you are using the **ACCOUNTADMIN** role or the role you used to log the model.\n",
    "\n",
    "If you want to use the model fom SQL, you could use the following SQL:\n",
    "```SQL\n",
    "SELECT \n",
    " pycaret_juice!predict(*) as predict_dict,\n",
    " predict_dict['prediction_label']::text as prediction_label,\n",
    " predict_dict['prediction_score']::double as prediction_score\n",
    "from pycaret_input_data;\n",
    "```"
   ]
  },
  {
   "cell_type": "markdown",
   "metadata": {},
   "source": []
  },
  {
   "cell_type": "code",
   "execution_count": null,
   "metadata": {},
   "outputs": [],
   "source": []
  }
 ],
 "metadata": {
  "kernelspec": {
   "display_name": "custom-model-hol",
   "language": "python",
   "name": "python3"
  },
  "language_info": {
   "codemirror_mode": {
    "name": "ipython",
    "version": 3
   },
   "file_extension": ".py",
   "mimetype": "text/x-python",
   "name": "python",
   "nbconvert_exporter": "python",
   "pygments_lexer": "ipython3",
   "version": "3.10.14"
  }
 },
 "nbformat": 4,
 "nbformat_minor": 2
}
