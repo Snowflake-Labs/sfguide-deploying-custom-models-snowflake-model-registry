{
 "cells": [
  {
   "cell_type": "markdown",
   "metadata": {},
   "source": [
    "## 1. Train a PyCaret Model\n",
    "\n",
    "In this notebook we will train a PyCaret model using the Juice dataset and save the model object as a file, which we will in the second step add to the Snowflake Model Registry.\n",
    "\n",
    "### Import Libraries"
   ]
  },
  {
   "cell_type": "code",
   "execution_count": null,
   "metadata": {},
   "outputs": [],
   "source": [
    "from pycaret.classification import ClassificationExperiment\n",
    "from pycaret.datasets import get_data"
   ]
  },
  {
   "cell_type": "markdown",
   "metadata": {},
   "source": [
    "### Train a PyCaret Classification model\n",
    "\n",
    "Start by running a Classification Experiment using the Juice dataset"
   ]
  },
  {
   "cell_type": "code",
   "execution_count": null,
   "metadata": {},
   "outputs": [],
   "source": [
    "data = get_data('juice')\n",
    "\n",
    "cl_exp = ClassificationExperiment()\n",
    "cl_exp.setup(data, target='Purchase', session_id=123)\n",
    "best_model = cl_exp.compare_models()"
   ]
  },
  {
   "cell_type": "markdown",
   "metadata": {},
   "source": [
    "We can see that the best model from this experience is using *Linear Discriminant Analysis* and if we check **best_model** we can see that it is that model we have."
   ]
  },
  {
   "cell_type": "code",
   "execution_count": null,
   "metadata": {},
   "outputs": [],
   "source": [
    "best_model"
   ]
  },
  {
   "cell_type": "markdown",
   "metadata": {},
   "source": [
    "We now have a model that we are satisfied with the performance we can move over to prepare for storing the model in Snowflake using the Snowflake Model Registry.\n",
    "\n",
    "In order to log the model/experiment into the Snowpark Model Registry we need to \n",
    "1) Serialize the model into a file\n",
    "2) Create a CustomModel class\n",
    "\n",
    "We will save the model as a file using the **save_model** method"
   ]
  },
  {
   "cell_type": "code",
   "execution_count": null,
   "metadata": {},
   "outputs": [],
   "source": [
    "cl_exp.save_model(best_model, \"juice_best_model\")"
   ]
  },
  {
   "cell_type": "markdown",
   "metadata": {},
   "source": [
    "We have now a trained PyCaret model that is saved to local disc and can go to the next step, where we will create a Custom Model and log it to the Snowflake Model Registry"
   ]
  },
  {
   "cell_type": "code",
   "execution_count": null,
   "metadata": {},
   "outputs": [],
   "source": []
  },
  {
   "cell_type": "markdown",
   "metadata": {},
   "source": []
  }
 ],
 "metadata": {
  "kernelspec": {
   "display_name": "custom-model-hol",
   "language": "python",
   "name": "python3"
  },
  "language_info": {
   "codemirror_mode": {
    "name": "ipython",
    "version": 3
   },
   "file_extension": ".py",
   "mimetype": "text/x-python",
   "name": "python",
   "nbconvert_exporter": "python",
   "pygments_lexer": "ipython3",
   "version": "3.10.16"
  }
 },
 "nbformat": 4,
 "nbformat_minor": 2
}
